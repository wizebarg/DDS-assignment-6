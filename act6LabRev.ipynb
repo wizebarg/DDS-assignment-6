{
 "cells": [
  {
   "cell_type": "markdown",
   "metadata": {},
   "source": [
    "Importing necessary libraries"
   ]
  },
  {
   "cell_type": "code",
   "execution_count": 17,
   "metadata": {},
   "outputs": [],
   "source": [
    "import pandas as panda\n",
    "import numpy as nump\n",
    "from sklearn.preprocessing import StandardScaler as ss\n",
    "from sklearn.model_selection import train_test_split as tts"
   ]
  },
  {
   "cell_type": "markdown",
   "metadata": {},
   "source": [
    "1. Load the above dataset locally "
   ]
  },
  {
   "cell_type": "code",
   "execution_count": 18,
   "metadata": {},
   "outputs": [],
   "source": [
    "# importing the csv file dataset\n",
    "dataSet = panda.read_csv('waterQuality1.csv', index_col=False)"
   ]
  },
  {
   "cell_type": "code",
   "execution_count": 19,
   "metadata": {},
   "outputs": [],
   "source": [
    "#Remove the dirty data by removing all entire rows with '#NUM!' value\n",
    "#The dirty data \"#NUM!\" can be seen only on  \"ammonia\" and \"is_safe\" column. \n",
    "# These column will be used in the process. \n",
    "for col in dataSet.index:\n",
    "  if dataSet.loc[col, \"ammonia\"] == \"#NUM!\" or dataSet.loc[col, \"is_safe\"] == \"#NUM!\":\n",
    "    dataSet.drop(col, inplace = True)"
   ]
  },
  {
   "cell_type": "code",
   "execution_count": 20,
   "metadata": {},
   "outputs": [],
   "source": [
    "#To be able to calculate data on this two columns we need to \n",
    "# convert the data type of ammonia and is_safe to number/numeric. \n",
    "dataSet['ammonia'] = panda.to_numeric(dataSet['ammonia'])\n",
    "dataSet['is_safe'] = panda.to_numeric(dataSet['is_safe'])"
   ]
  },
  {
   "cell_type": "markdown",
   "metadata": {},
   "source": [
    "2. Establish your X and Y matrices."
   ]
  },
  {
   "cell_type": "code",
   "execution_count": 21,
   "metadata": {},
   "outputs": [],
   "source": [
    "x = dataSet.drop('is_safe', axis=1)\n",
    "y = dataSet['is_safe']"
   ]
  },
  {
   "cell_type": "code",
   "execution_count": 22,
   "metadata": {},
   "outputs": [],
   "source": [
    "scaler = ss()\n",
    "x = scaler.fit_transform(x)"
   ]
  },
  {
   "cell_type": "markdown",
   "metadata": {},
   "source": [
    "3. Perform 80/20 Data split for your X and Y matrix."
   ]
  },
  {
   "cell_type": "code",
   "execution_count": 23,
   "metadata": {},
   "outputs": [],
   "source": [
    "X_train, X_test, Y_train, Y_test = tts(x, y, test_size=0.2)"
   ]
  },
  {
   "cell_type": "markdown",
   "metadata": {},
   "source": [
    "4. Provide data dimension for¶\n",
    "    1. train data\n",
    "    2. test data"
   ]
  },
  {
   "cell_type": "code",
   "execution_count": 24,
   "metadata": {},
   "outputs": [
    {
     "name": "stdout",
     "output_type": "stream",
     "text": [
      "Shape of X_train:  (6396, 20)\n",
      "Shape of Y_train:  (6396,)\n",
      "Shape of X_test:  (1600, 20)\n",
      "Shape of Y_test:  (1600,)\n"
     ]
    }
   ],
   "source": [
    "# Printing the shape of  x and y dimension of train \n",
    "# and test data to see the value.\n",
    "print(\"Shape of X_train: \", X_train.shape)\n",
    "print(\"Shape of Y_train: \", Y_train.shape)\n",
    "print(\"Shape of X_test: \", X_test.shape)\n",
    "print(\"Shape of Y_test: \", Y_test.shape)"
   ]
  },
  {
   "cell_type": "markdown",
   "metadata": {},
   "source": [
    "5. Define, build, predict the following classification learning algorithms\n",
    "    1. Logistic Regression\n",
    "    2. Classification Tree\n",
    "    3. Random Forest\n",
    "    4. Naive-Bayes Classification"
   ]
  },
  {
   "cell_type": "code",
   "execution_count": 25,
   "metadata": {},
   "outputs": [],
   "source": [
    "#Logistic Regression\n",
    "from sklearn.linear_model import LogisticRegression as LR\n",
    "log_reg = LR(C=1e6)\n",
    "log_reg.fit(X_train, Y_train)\n",
    "log_predict_train = log_reg.predict(X_train)\n",
    "log_predict_test = log_reg.predict(X_test)"
   ]
  },
  {
   "cell_type": "code",
   "execution_count": 26,
   "metadata": {},
   "outputs": [],
   "source": [
    "#Decision Trees\n",
    "from sklearn.tree import DecisionTreeClassifier as DTC\n",
    "dt_classifier = DTC(random_state=0)\n",
    "dt_classifier.fit(X_train, Y_train)\n",
    "dt_predict_train = dt_classifier.predict(X_train)\n",
    "dt_predict_test = dt_classifier.predict(X_test)"
   ]
  },
  {
   "cell_type": "code",
   "execution_count": 27,
   "metadata": {},
   "outputs": [],
   "source": [
    "#Random Forest\n",
    "from sklearn.ensemble import RandomForestClassifier as RFC\n",
    "rf_classifier = RFC(random_state=0)\n",
    "rf_classifier.fit(X_train, Y_train)\n",
    "rf_predict_train = rf_classifier.predict(X_train)\n",
    "rf_predict_test = rf_classifier.predict(X_test)"
   ]
  },
  {
   "cell_type": "code",
   "execution_count": 28,
   "metadata": {},
   "outputs": [],
   "source": [
    "#Naive Bayes\n",
    "from sklearn.naive_bayes import GaussianNB as GNB\n",
    "nb_classifier = GNB()\n",
    "nb_classifier.fit(X_train, Y_train)\n",
    "nb_predict_train = nb_classifier.predict(X_train)\n",
    "nb_predict_test = nb_classifier.predict(X_test)"
   ]
  },
  {
   "cell_type": "markdown",
   "metadata": {},
   "source": [
    "6. Print the performance of the above models in training and testing data"
   ]
  },
  {
   "cell_type": "code",
   "execution_count": 29,
   "metadata": {},
   "outputs": [],
   "source": [
    "#import accuracy score from sklearn\n",
    "from sklearn.metrics import accuracy_score"
   ]
  },
  {
   "cell_type": "code",
   "execution_count": 30,
   "metadata": {},
   "outputs": [
    {
     "name": "stdout",
     "output_type": "stream",
     "text": [
      "Logistic Regression Train and Test accuracy: \n",
      "Train accuracy:  0.9080675422138836\n",
      "Test accuracy:  0.9075\n",
      "\n",
      "\n",
      "Decision Tree Train and Test accuracy: \n",
      "Train accuracy:  1.0\n",
      "Test accuracy:  0.94875\n",
      "\n",
      "\n",
      "Random Forest Train and Test accuracy: \n",
      "Train accuracy:  1.0\n",
      "Test accuracy:  0.95875\n",
      "\n",
      "\n",
      "Naive Bayes Train and Test accuracy: \n",
      "Train accuracy:  0.8486554096310194\n",
      "Test accuracy:  0.85875\n"
     ]
    }
   ],
   "source": [
    "#Logistic Regression\n",
    "log_train_accuracy = accuracy_score(y_true=Y_train, y_pred=log_predict_train)\n",
    "log_test_accuracy = accuracy_score(y_true=Y_test, y_pred=log_predict_test)\n",
    "print(\"Logistic Regression Train and Test accuracy: \")\n",
    "print(\"Train accuracy: \", log_train_accuracy)\n",
    "print(\"Test accuracy: \", log_test_accuracy)\n",
    "print(\"\\n\")\n",
    "\n",
    "#Decision Tree\n",
    "dt_train_accuracy = accuracy_score(y_true=Y_train, y_pred=dt_predict_train)\n",
    "dt_test_accuracy = accuracy_score(y_true=Y_test, y_pred=dt_predict_test)\n",
    "print(\"Decision Tree Train and Test accuracy: \")\n",
    "print(\"Train accuracy: \", dt_train_accuracy)\n",
    "print(\"Test accuracy: \", dt_test_accuracy)\n",
    "print(\"\\n\")\n",
    "\n",
    "#Random Forest\n",
    "rf_train_accuracy = accuracy_score(y_true=Y_train, y_pred=rf_predict_train)\n",
    "rf_test_accuracy = accuracy_score(y_true=Y_test, y_pred=rf_predict_test)\n",
    "print(\"Random Forest Train and Test accuracy: \")\n",
    "print(\"Train accuracy: \", rf_train_accuracy)\n",
    "print(\"Test accuracy: \", rf_test_accuracy)\n",
    "print(\"\\n\")\n",
    "\n",
    "#Naive Bayes\n",
    "nb_train_accuracy = accuracy_score(y_true=Y_train, y_pred=nb_predict_train)\n",
    "nb_test_accuracy = accuracy_score(y_true=Y_test, y_pred=nb_predict_test)\n",
    "print(\"Naive Bayes Train and Test accuracy: \")\n",
    "print(\"Train accuracy: \", nb_train_accuracy)\n",
    "print(\"Test accuracy: \", nb_test_accuracy)"
   ]
  }
 ],
 "metadata": {
  "interpreter": {
   "hash": "31f2aee4e71d21fbe5cf8b01ff0e069b9275f58929596ceb00d14d90e3e16cd6"
  },
  "kernelspec": {
   "display_name": "Python 3.8.10 64-bit",
   "name": "python3"
  },
  "language_info": {
   "codemirror_mode": {
    "name": "ipython",
    "version": 3
   },
   "file_extension": ".py",
   "mimetype": "text/x-python",
   "name": "python",
   "nbconvert_exporter": "python",
   "pygments_lexer": "ipython3",
   "version": "3.8.10"
  },
  "orig_nbformat": 4
 },
 "nbformat": 4,
 "nbformat_minor": 2
}
